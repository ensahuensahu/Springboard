{
 "cells": [
  {
   "cell_type": "markdown",
   "id": "7a26f102",
   "metadata": {},
   "source": [
    "# Step 5: Data Wrangling\n",
    "This notebook covers the data cleaning, handling of missing values, outlier detection, and optional exploratory data analysis for the 'Agentic Coding Mentor' capstone project."
   ]
  },
  {
   "cell_type": "code",
   "execution_count": null,
   "id": "41f54598",
   "metadata": {},
   "outputs": [],
   "source": [
    "import pandas as pd\n",
    "import numpy as np\n",
    "import matplotlib.pyplot as plt\n",
    "import seaborn as sns\n",
    "%matplotlib inline"
   ]
  },
  {
   "cell_type": "markdown",
   "id": "88d37f0f",
   "metadata": {},
   "source": [
    "## Load and Inspect the Dataset"
   ]
  },
  {
   "cell_type": "code",
   "execution_count": null,
   "id": "ca64b76c",
   "metadata": {},
   "outputs": [],
   "source": [
    "# Load the dataset (replace with your actual path or source)\n",
    "df = pd.read_csv(\"data/raw/synthetic_python_errors.csv\")  # placeholder file\n",
    "df.head()"
   ]
  },
  {
   "cell_type": "code",
   "execution_count": null,
   "id": "37b73bf9",
   "metadata": {},
   "outputs": [],
   "source": [
    "# Basic info\n",
    "df.info()\n",
    "\n",
    "# Summary statistics\n",
    "df.describe()"
   ]
  },
  {
   "cell_type": "markdown",
   "id": "294b7ed3",
   "metadata": {},
   "source": [
    "## Data Cleaning"
   ]
  },
  {
   "cell_type": "code",
   "execution_count": null,
   "id": "713f91d0",
   "metadata": {},
   "outputs": [],
   "source": [
    "# Drop rows with missing critical fields\n",
    "df.dropna(subset=['raw_code', 'fixed_code'], inplace=True)\n",
    "\n",
    "# Remove duplicates\n",
    "df.drop_duplicates(inplace=True)\n",
    "\n",
    "# Trim whitespace\n",
    "df['raw_code'] = df['raw_code'].str.strip()\n",
    "df['fixed_code'] = df['fixed_code'].str.strip()\n",
    "df['explanation'] = df['explanation'].str.strip() if 'explanation' in df.columns else None"
   ]
  },
  {
   "cell_type": "markdown",
   "id": "1a8310c4",
   "metadata": {},
   "source": [
    "## Outlier Detection and Handling"
   ]
  },
  {
   "cell_type": "code",
   "execution_count": null,
   "id": "c17cefd2",
   "metadata": {},
   "outputs": [],
   "source": [
    "# Add code length column\n",
    "df['code_length'] = df['raw_code'].apply(lambda x: len(str(x).split()))\n",
    "\n",
    "# View statistics\n",
    "df['code_length'].describe()\n",
    "\n",
    "# Remove overly long code snippets (arbitrary threshold for this project)\n",
    "df = df[df['code_length'] < 1000]"
   ]
  },
  {
   "cell_type": "markdown",
   "id": "f857bbd6",
   "metadata": {},
   "source": [
    "## Subsample the Dataset (if needed)"
   ]
  },
  {
   "cell_type": "code",
   "execution_count": null,
   "id": "84c685f8",
   "metadata": {},
   "outputs": [],
   "source": [
    "# If dataset is too large\n",
    "df_sample = df.sample(n=10000, random_state=42) if len(df) > 10000 else df"
   ]
  },
  {
   "cell_type": "markdown",
   "id": "723f3742",
   "metadata": {},
   "source": [
    "## Exploratory Data Analysis (Optional)"
   ]
  },
  {
   "cell_type": "code",
   "execution_count": null,
   "id": "52e77ebf",
   "metadata": {},
   "outputs": [],
   "source": [
    "# Error type distribution (if exists)\n",
    "if 'error_type' in df.columns:\n",
    "    sns.countplot(x='error_type', data=df)\n",
    "    plt.title(\"Error Type Distribution\")\n",
    "    plt.xticks(rotation=45)\n",
    "    plt.tight_layout()\n",
    "    plt.show()"
   ]
  }
 ],
 "metadata": {},
 "nbformat": 4,
 "nbformat_minor": 5
}
